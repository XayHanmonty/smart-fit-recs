{
 "cells": [
  {
   "cell_type": "code",
   "execution_count": 2,
   "id": "26163a7c-49c6-42cc-8112-e122ae8befdd",
   "metadata": {},
   "outputs": [],
   "source": [
    "import time\n",
    "\n",
    "notebook_start_time = time.time()"
   ]
  },
  {
   "cell_type": "code",
   "execution_count": 3,
   "id": "5f87364e-4045-451d-a741-7a8d68674c16",
   "metadata": {},
   "outputs": [
    {
     "name": "stdout",
     "output_type": "stream",
     "text": [
      "⛳️ Local environment\n",
      "Adding the following directory to the PYTHONPATH: /Users/xayhanmonty/Desktop/smart-fit-recs\n"
     ]
    }
   ],
   "source": [
    "import sys\n",
    "from pathlib import Path\n",
    "\n",
    "\n",
    "def is_google_colab() -> bool:\n",
    "    if \"google.colab\" in str(get_ipython()):\n",
    "        return True\n",
    "    return False\n",
    "\n",
    "\n",
    "def clone_repository() -> None:\n",
    "    !git clone https://github.com/XayHanmonty/smart-fit-recs.git\n",
    "    %cd smart-fit-recs/\n",
    "\n",
    "\n",
    "def install_dependencies() -> None:\n",
    "    !pip install --upgrade uv\n",
    "    !uv pip install --all-extras --system --requirement pyproject.toml\n",
    "\n",
    "\n",
    "if is_google_colab():\n",
    "    clone_repository()\n",
    "    install_dependencies()\n",
    "\n",
    "    root_dir = str(Path().absolute())\n",
    "    print(\"⛳️ Google Colab environment\")\n",
    "else:\n",
    "    root_dir = str(Path().absolute().parent)\n",
    "    print(\"⛳️ Local environment\")\n",
    "\n",
    "# Add the root directory to the `PYTHONPATH` to use the `recsys` Python module from the notebook.\n",
    "if root_dir not in sys.path:\n",
    "    print(f\"Adding the following directory to the PYTHONPATH: {root_dir}\")\n",
    "    sys.path.append(root_dir)"
   ]
  },
  {
   "cell_type": "code",
   "execution_count": 22,
   "id": "1445d866-723a-46d4-90b4-c2b24d37061d",
   "metadata": {},
   "outputs": [
    {
     "name": "stdout",
     "output_type": "stream",
     "text": [
      "The autoreload extension is already loaded. To reload it, use:\n",
      "  %reload_ext autoreload\n"
     ]
    }
   ],
   "source": [
    "%load_ext autoreload\n",
    "%autoreload 2\n",
    "\n",
    "import warnings\n",
    "\n",
    "warnings.filterwarnings(\"ignore\")\n",
    "\n",
    "from loguru import logger\n",
    "\n",
    "from recsys import hopsworks_integration, training\n",
    "from recsys.config import settings"
   ]
  },
  {
   "cell_type": "code",
   "execution_count": 5,
   "id": "4bf072f8-ddfe-4a52-9cc3-6a2fafe9bfdd",
   "metadata": {},
   "outputs": [
    {
     "name": "stdout",
     "output_type": "stream",
     "text": [
      "{'CUSTOMER_DATA_SIZE': <CustomerDatasetSize.SMALL: 'SMALL'>,\n",
      " 'CUSTOM_HOPSWORKS_INFERENCE_ENV': 'custom_env_name',\n",
      " 'FEATURES_EMBEDDING_MODEL_ID': 'all-MiniLM-L6-v2',\n",
      " 'HOPSWORKS_API_KEY': SecretStr('**********'),\n",
      " 'OPENAI_API_KEY': SecretStr('**********'),\n",
      " 'OPENAI_MODEL_ID': 'gpt-4o-mini',\n",
      " 'RANKING_EARLY_STOPPING_ROUNDS': 5,\n",
      " 'RANKING_ITERATIONS': 100,\n",
      " 'RANKING_LEARNING_RATE': 0.2,\n",
      " 'RANKING_MODEL_TYPE': 'ranking',\n",
      " 'RANKING_SCALE_POS_WEIGHT': 10,\n",
      " 'RECSYS_DIR': PosixPath('/Users/xayhanmonty/Desktop/smart-fit-recs/recsys'),\n",
      " 'TWO_TOWER_DATASET_TEST_SPLIT_SIZE': 0.1,\n",
      " 'TWO_TOWER_DATASET_VALIDATON_SPLIT_SIZE': 0.1,\n",
      " 'TWO_TOWER_LEARNING_RATE': 0.01,\n",
      " 'TWO_TOWER_MODEL_BATCH_SIZE': 2048,\n",
      " 'TWO_TOWER_MODEL_EMBEDDING_SIZE': 16,\n",
      " 'TWO_TOWER_NUM_EPOCHS': 10,\n",
      " 'TWO_TOWER_WEIGHT_DECAY': 0.001}\n"
     ]
    }
   ],
   "source": [
    "from pprint import pprint\n",
    "\n",
    "pprint(dict(settings))"
   ]
  },
  {
   "cell_type": "code",
   "execution_count": 6,
   "id": "b312c8c8-fefc-49aa-ada8-a2208a8e7b8b",
   "metadata": {},
   "outputs": [
    {
     "name": "stderr",
     "output_type": "stream",
     "text": [
      "\u001b[32m2025-07-29 18:18:23.879\u001b[0m | \u001b[1mINFO    \u001b[0m | \u001b[36mrecsys.hopsworks_integration.feature_store\u001b[0m:\u001b[36mget_feature_store\u001b[0m:\u001b[36m13\u001b[0m - \u001b[1mLoging to Hopsworks using HOPSWORKS_API_KEY env var.\u001b[0m\n"
     ]
    },
    {
     "name": "stdout",
     "output_type": "stream",
     "text": [
      "2025-07-29 18:18:23,880 INFO: Initializing external client\n",
      "2025-07-29 18:18:23,880 INFO: Base URL: https://c.app.hopsworks.ai:443\n"
     ]
    },
    {
     "name": "stderr",
     "output_type": "stream",
     "text": [
      "\n",
      "\n"
     ]
    },
    {
     "name": "stdout",
     "output_type": "stream",
     "text": [
      "2025-07-29 18:18:25,749 INFO: Python Engine initialized.\n",
      "\n",
      "Logged in to project, explore it here https://c.app.hopsworks.ai:443/p/1239220\n"
     ]
    }
   ],
   "source": [
    "project, fs = hopsworks_integration.get_feature_store()"
   ]
  },
  {
   "cell_type": "code",
   "execution_count": 7,
   "id": "dcb70250-7c3a-421a-92a2-efc49337d98f",
   "metadata": {},
   "outputs": [],
   "source": [
    "feature_view = hopsworks_integration.feature_store.create_retrieval_feature_view(fs)"
   ]
  },
  {
   "cell_type": "code",
   "execution_count": 8,
   "id": "86336268-8ebe-4d31-b3e5-01bade6756b3",
   "metadata": {},
   "outputs": [
    {
     "name": "stdout",
     "output_type": "stream",
     "text": [
      "Finished: Reading data from Hopsworks, using Hopsworks Feature Query Service (6.83s) \n"
     ]
    },
    {
     "data": {
      "text/html": [
       "<div>\n",
       "<style scoped>\n",
       "    .dataframe tbody tr th:only-of-type {\n",
       "        vertical-align: middle;\n",
       "    }\n",
       "\n",
       "    .dataframe tbody tr th {\n",
       "        vertical-align: top;\n",
       "    }\n",
       "\n",
       "    .dataframe thead th {\n",
       "        text-align: right;\n",
       "    }\n",
       "</style>\n",
       "<table border=\"1\" class=\"dataframe\">\n",
       "  <thead>\n",
       "    <tr style=\"text-align: right;\">\n",
       "      <th></th>\n",
       "      <th>customer_id</th>\n",
       "      <th>article_id</th>\n",
       "      <th>t_dat</th>\n",
       "      <th>price</th>\n",
       "      <th>month_sin</th>\n",
       "      <th>month_cos</th>\n",
       "      <th>age</th>\n",
       "      <th>club_member_status</th>\n",
       "      <th>age_group</th>\n",
       "      <th>garment_group_name</th>\n",
       "      <th>index_group_name</th>\n",
       "    </tr>\n",
       "  </thead>\n",
       "  <tbody>\n",
       "    <tr>\n",
       "      <th>0</th>\n",
       "      <td>8d99a2129f094cbf9805df408ed0a2bcb6ed642e4ec553...</td>\n",
       "      <td>794389001</td>\n",
       "      <td>0</td>\n",
       "      <td>0.033881</td>\n",
       "      <td>-8.660254e-01</td>\n",
       "      <td>0.500000</td>\n",
       "      <td>29.0</td>\n",
       "      <td>ACTIVE</td>\n",
       "      <td>26-35</td>\n",
       "      <td>Jersey Fancy</td>\n",
       "      <td>Ladieswear</td>\n",
       "    </tr>\n",
       "    <tr>\n",
       "      <th>1</th>\n",
       "      <td>00ee654ae8772c8a1ef31c53a07b582ef6dd9c82ed111f...</td>\n",
       "      <td>643642001</td>\n",
       "      <td>0</td>\n",
       "      <td>0.050831</td>\n",
       "      <td>5.000000e-01</td>\n",
       "      <td>-0.866025</td>\n",
       "      <td>28.0</td>\n",
       "      <td>ACTIVE</td>\n",
       "      <td>26-35</td>\n",
       "      <td>Accessories</td>\n",
       "      <td>Ladieswear</td>\n",
       "    </tr>\n",
       "    <tr>\n",
       "      <th>2</th>\n",
       "      <td>632cef22637bc0ac25a3d8aeda53ec3f1a08804b45fe30...</td>\n",
       "      <td>791798001</td>\n",
       "      <td>0</td>\n",
       "      <td>0.067780</td>\n",
       "      <td>1.224647e-16</td>\n",
       "      <td>-1.000000</td>\n",
       "      <td>31.0</td>\n",
       "      <td>ACTIVE</td>\n",
       "      <td>26-35</td>\n",
       "      <td>Outdoor</td>\n",
       "      <td>Ladieswear</td>\n",
       "    </tr>\n",
       "    <tr>\n",
       "      <th>3</th>\n",
       "      <td>785a21b0d7ae32671b1950e347812f9bf739f0f5bf8cdc...</td>\n",
       "      <td>888026001</td>\n",
       "      <td>0</td>\n",
       "      <td>0.033881</td>\n",
       "      <td>-5.000000e-01</td>\n",
       "      <td>-0.866025</td>\n",
       "      <td>27.0</td>\n",
       "      <td>ACTIVE</td>\n",
       "      <td>26-35</td>\n",
       "      <td>Jersey Fancy</td>\n",
       "      <td>Ladieswear</td>\n",
       "    </tr>\n",
       "    <tr>\n",
       "      <th>4</th>\n",
       "      <td>4a717fb8c5e48b957eb4ffbb38dd2690a738c796186693...</td>\n",
       "      <td>557599022</td>\n",
       "      <td>0</td>\n",
       "      <td>0.016932</td>\n",
       "      <td>5.000000e-01</td>\n",
       "      <td>0.866025</td>\n",
       "      <td>35.0</td>\n",
       "      <td>ACTIVE</td>\n",
       "      <td>26-35</td>\n",
       "      <td>Under-, Nightwear</td>\n",
       "      <td>Ladieswear</td>\n",
       "    </tr>\n",
       "    <tr>\n",
       "      <th>...</th>\n",
       "      <td>...</td>\n",
       "      <td>...</td>\n",
       "      <td>...</td>\n",
       "      <td>...</td>\n",
       "      <td>...</td>\n",
       "      <td>...</td>\n",
       "      <td>...</td>\n",
       "      <td>...</td>\n",
       "      <td>...</td>\n",
       "      <td>...</td>\n",
       "      <td>...</td>\n",
       "    </tr>\n",
       "    <tr>\n",
       "      <th>20371</th>\n",
       "      <td>9f563dff189c7834bd183853436c55b921875561041b01...</td>\n",
       "      <td>751471026</td>\n",
       "      <td>0</td>\n",
       "      <td>0.033881</td>\n",
       "      <td>5.000000e-01</td>\n",
       "      <td>-0.866025</td>\n",
       "      <td>54.0</td>\n",
       "      <td>ACTIVE</td>\n",
       "      <td>46-55</td>\n",
       "      <td>Trousers</td>\n",
       "      <td>Ladieswear</td>\n",
       "    </tr>\n",
       "    <tr>\n",
       "      <th>20372</th>\n",
       "      <td>23506773e0d516c2da481ab884f0d0d8c6dd57ae7ae4cb...</td>\n",
       "      <td>673144002</td>\n",
       "      <td>0</td>\n",
       "      <td>0.016932</td>\n",
       "      <td>8.660254e-01</td>\n",
       "      <td>0.500000</td>\n",
       "      <td>31.0</td>\n",
       "      <td>ACTIVE</td>\n",
       "      <td>26-35</td>\n",
       "      <td>Knitwear</td>\n",
       "      <td>Divided</td>\n",
       "    </tr>\n",
       "    <tr>\n",
       "      <th>20373</th>\n",
       "      <td>a14d29add438b31ff6fda4ea52f93cd0b8d1162f1b2d28...</td>\n",
       "      <td>396135008</td>\n",
       "      <td>0</td>\n",
       "      <td>0.009864</td>\n",
       "      <td>-8.660254e-01</td>\n",
       "      <td>-0.500000</td>\n",
       "      <td>26.0</td>\n",
       "      <td>ACTIVE</td>\n",
       "      <td>26-35</td>\n",
       "      <td>Jersey Basic</td>\n",
       "      <td>Ladieswear</td>\n",
       "    </tr>\n",
       "    <tr>\n",
       "      <th>20374</th>\n",
       "      <td>b53e34a95b44ff0764b5b221e42ee9eec4096f81f84542...</td>\n",
       "      <td>697054003</td>\n",
       "      <td>0</td>\n",
       "      <td>0.025407</td>\n",
       "      <td>8.660254e-01</td>\n",
       "      <td>0.500000</td>\n",
       "      <td>21.0</td>\n",
       "      <td>ACTIVE</td>\n",
       "      <td>19-25</td>\n",
       "      <td>Blouses</td>\n",
       "      <td>Ladieswear</td>\n",
       "    </tr>\n",
       "    <tr>\n",
       "      <th>20375</th>\n",
       "      <td>c155c819a95fad7ff3d9ae05514d1e8446feca502a3e63...</td>\n",
       "      <td>697054003</td>\n",
       "      <td>0</td>\n",
       "      <td>0.025407</td>\n",
       "      <td>8.660254e-01</td>\n",
       "      <td>0.500000</td>\n",
       "      <td>49.0</td>\n",
       "      <td>ACTIVE</td>\n",
       "      <td>46-55</td>\n",
       "      <td>Blouses</td>\n",
       "      <td>Ladieswear</td>\n",
       "    </tr>\n",
       "  </tbody>\n",
       "</table>\n",
       "<p>20376 rows × 11 columns</p>\n",
       "</div>"
      ],
      "text/plain": [
       "                                             customer_id article_id  t_dat  \\\n",
       "0      8d99a2129f094cbf9805df408ed0a2bcb6ed642e4ec553...  794389001      0   \n",
       "1      00ee654ae8772c8a1ef31c53a07b582ef6dd9c82ed111f...  643642001      0   \n",
       "2      632cef22637bc0ac25a3d8aeda53ec3f1a08804b45fe30...  791798001      0   \n",
       "3      785a21b0d7ae32671b1950e347812f9bf739f0f5bf8cdc...  888026001      0   \n",
       "4      4a717fb8c5e48b957eb4ffbb38dd2690a738c796186693...  557599022      0   \n",
       "...                                                  ...        ...    ...   \n",
       "20371  9f563dff189c7834bd183853436c55b921875561041b01...  751471026      0   \n",
       "20372  23506773e0d516c2da481ab884f0d0d8c6dd57ae7ae4cb...  673144002      0   \n",
       "20373  a14d29add438b31ff6fda4ea52f93cd0b8d1162f1b2d28...  396135008      0   \n",
       "20374  b53e34a95b44ff0764b5b221e42ee9eec4096f81f84542...  697054003      0   \n",
       "20375  c155c819a95fad7ff3d9ae05514d1e8446feca502a3e63...  697054003      0   \n",
       "\n",
       "          price     month_sin  month_cos   age club_member_status age_group  \\\n",
       "0      0.033881 -8.660254e-01   0.500000  29.0             ACTIVE     26-35   \n",
       "1      0.050831  5.000000e-01  -0.866025  28.0             ACTIVE     26-35   \n",
       "2      0.067780  1.224647e-16  -1.000000  31.0             ACTIVE     26-35   \n",
       "3      0.033881 -5.000000e-01  -0.866025  27.0             ACTIVE     26-35   \n",
       "4      0.016932  5.000000e-01   0.866025  35.0             ACTIVE     26-35   \n",
       "...         ...           ...        ...   ...                ...       ...   \n",
       "20371  0.033881  5.000000e-01  -0.866025  54.0             ACTIVE     46-55   \n",
       "20372  0.016932  8.660254e-01   0.500000  31.0             ACTIVE     26-35   \n",
       "20373  0.009864 -8.660254e-01  -0.500000  26.0             ACTIVE     26-35   \n",
       "20374  0.025407  8.660254e-01   0.500000  21.0             ACTIVE     19-25   \n",
       "20375  0.025407  8.660254e-01   0.500000  49.0             ACTIVE     46-55   \n",
       "\n",
       "      garment_group_name index_group_name  \n",
       "0           Jersey Fancy       Ladieswear  \n",
       "1            Accessories       Ladieswear  \n",
       "2                Outdoor       Ladieswear  \n",
       "3           Jersey Fancy       Ladieswear  \n",
       "4      Under-, Nightwear       Ladieswear  \n",
       "...                  ...              ...  \n",
       "20371           Trousers       Ladieswear  \n",
       "20372           Knitwear          Divided  \n",
       "20373       Jersey Basic       Ladieswear  \n",
       "20374            Blouses       Ladieswear  \n",
       "20375            Blouses       Ladieswear  \n",
       "\n",
       "[20376 rows x 11 columns]"
      ]
     },
     "execution_count": 8,
     "metadata": {},
     "output_type": "execute_result"
    }
   ],
   "source": [
    "feature_view.get_batch_data()"
   ]
  },
  {
   "cell_type": "code",
   "execution_count": 9,
   "id": "ccffc96a-c462-46e0-8d8a-2f2412da6fdc",
   "metadata": {},
   "outputs": [
    {
     "name": "stderr",
     "output_type": "stream",
     "text": [
      "\u001b[32m2025-07-29 18:18:43.825\u001b[0m | \u001b[1mINFO    \u001b[0m | \u001b[36mrecsys.training.two_tower\u001b[0m:\u001b[36mget_train_val_split\u001b[0m:\u001b[36m40\u001b[0m - \u001b[1mRetrieving and creating train, val test split...\u001b[0m\n"
     ]
    },
    {
     "name": "stdout",
     "output_type": "stream",
     "text": [
      "Finished: Reading data from Hopsworks, using Hopsworks Feature Query Service (9.33s) \n"
     ]
    },
    {
     "name": "stderr",
     "output_type": "stream",
     "text": [
      "VersionWarning: Incremented version to `6`.\n"
     ]
    }
   ],
   "source": [
    "dataset = training.two_tower.TwoTowerDataset(\n",
    "    feature_view=feature_view, batch_size=settings.TWO_TOWER_MODEL_BATCH_SIZE\n",
    ")\n",
    "train_ds, val_ds = dataset.get_train_val_split()"
   ]
  },
  {
   "cell_type": "code",
   "execution_count": 10,
   "id": "47446216-18d8-4a55-9d1c-576bbd3b277f",
   "metadata": {},
   "outputs": [
    {
     "name": "stderr",
     "output_type": "stream",
     "text": [
      "\u001b[32m2025-07-29 18:18:59.048\u001b[0m | \u001b[1mINFO    \u001b[0m | \u001b[36m__main__\u001b[0m:\u001b[36m<module>\u001b[0m:\u001b[36m1\u001b[0m - \u001b[1mTraining samples: 16,300\u001b[0m\n",
      "\u001b[32m2025-07-29 18:18:59.048\u001b[0m | \u001b[1mINFO    \u001b[0m | \u001b[36m__main__\u001b[0m:\u001b[36m<module>\u001b[0m:\u001b[36m2\u001b[0m - \u001b[1mValidation samples: 2,037\u001b[0m\n",
      "\u001b[32m2025-07-29 18:18:59.048\u001b[0m | \u001b[1mINFO    \u001b[0m | \u001b[36m__main__\u001b[0m:\u001b[36m<module>\u001b[0m:\u001b[36m4\u001b[0m - \u001b[1mNumber of users: 960\u001b[0m\n",
      "\u001b[32m2025-07-29 18:18:59.049\u001b[0m | \u001b[1mINFO    \u001b[0m | \u001b[36m__main__\u001b[0m:\u001b[36m<module>\u001b[0m:\u001b[36m5\u001b[0m - \u001b[1mNumber of items: 11,830\u001b[0m\n"
     ]
    }
   ],
   "source": [
    "logger.info(f\"Training samples: {len(dataset.properties['train_df']):,}\")\n",
    "logger.info(f\"Validation samples: {len(dataset.properties['val_df']):,}\")\n",
    "\n",
    "logger.info(f\"Number of users: {len(dataset.properties['user_ids']):,}\")\n",
    "logger.info(f\"Number of items: {len(dataset.properties['item_ids']):,}\")"
   ]
  },
  {
   "cell_type": "code",
   "execution_count": 11,
   "id": "8bcac667-ad01-4f8a-aebd-ec854dfe2d8e",
   "metadata": {},
   "outputs": [
    {
     "data": {
      "text/html": [
       "<div>\n",
       "<style scoped>\n",
       "    .dataframe tbody tr th:only-of-type {\n",
       "        vertical-align: middle;\n",
       "    }\n",
       "\n",
       "    .dataframe tbody tr th {\n",
       "        vertical-align: top;\n",
       "    }\n",
       "\n",
       "    .dataframe thead th {\n",
       "        text-align: right;\n",
       "    }\n",
       "</style>\n",
       "<table border=\"1\" class=\"dataframe\">\n",
       "  <thead>\n",
       "    <tr style=\"text-align: right;\">\n",
       "      <th></th>\n",
       "      <th>customer_id</th>\n",
       "      <th>article_id</th>\n",
       "      <th>t_dat</th>\n",
       "      <th>price</th>\n",
       "      <th>month_sin</th>\n",
       "      <th>month_cos</th>\n",
       "      <th>age</th>\n",
       "      <th>club_member_status</th>\n",
       "      <th>age_group</th>\n",
       "      <th>garment_group_name</th>\n",
       "      <th>index_group_name</th>\n",
       "    </tr>\n",
       "  </thead>\n",
       "  <tbody>\n",
       "    <tr>\n",
       "      <th>0</th>\n",
       "      <td>8d99a2129f094cbf9805df408ed0a2bcb6ed642e4ec553...</td>\n",
       "      <td>794389001</td>\n",
       "      <td>0</td>\n",
       "      <td>0.033881</td>\n",
       "      <td>-8.660254e-01</td>\n",
       "      <td>5.000000e-01</td>\n",
       "      <td>29.0</td>\n",
       "      <td>ACTIVE</td>\n",
       "      <td>26-35</td>\n",
       "      <td>Jersey Fancy</td>\n",
       "      <td>Ladieswear</td>\n",
       "    </tr>\n",
       "    <tr>\n",
       "      <th>1</th>\n",
       "      <td>00ee654ae8772c8a1ef31c53a07b582ef6dd9c82ed111f...</td>\n",
       "      <td>643642001</td>\n",
       "      <td>0</td>\n",
       "      <td>0.050831</td>\n",
       "      <td>5.000000e-01</td>\n",
       "      <td>-8.660254e-01</td>\n",
       "      <td>28.0</td>\n",
       "      <td>ACTIVE</td>\n",
       "      <td>26-35</td>\n",
       "      <td>Accessories</td>\n",
       "      <td>Ladieswear</td>\n",
       "    </tr>\n",
       "    <tr>\n",
       "      <th>2</th>\n",
       "      <td>632cef22637bc0ac25a3d8aeda53ec3f1a08804b45fe30...</td>\n",
       "      <td>791798001</td>\n",
       "      <td>0</td>\n",
       "      <td>0.067780</td>\n",
       "      <td>1.224647e-16</td>\n",
       "      <td>-1.000000e+00</td>\n",
       "      <td>31.0</td>\n",
       "      <td>ACTIVE</td>\n",
       "      <td>26-35</td>\n",
       "      <td>Outdoor</td>\n",
       "      <td>Ladieswear</td>\n",
       "    </tr>\n",
       "    <tr>\n",
       "      <th>3</th>\n",
       "      <td>785a21b0d7ae32671b1950e347812f9bf739f0f5bf8cdc...</td>\n",
       "      <td>888026001</td>\n",
       "      <td>0</td>\n",
       "      <td>0.033881</td>\n",
       "      <td>-5.000000e-01</td>\n",
       "      <td>-8.660254e-01</td>\n",
       "      <td>27.0</td>\n",
       "      <td>ACTIVE</td>\n",
       "      <td>26-35</td>\n",
       "      <td>Jersey Fancy</td>\n",
       "      <td>Ladieswear</td>\n",
       "    </tr>\n",
       "    <tr>\n",
       "      <th>5</th>\n",
       "      <td>d58d96644c484bad86a9a4c48686ac26ae37fbdaf67459...</td>\n",
       "      <td>762656001</td>\n",
       "      <td>0</td>\n",
       "      <td>0.003373</td>\n",
       "      <td>1.000000e+00</td>\n",
       "      <td>6.123234e-17</td>\n",
       "      <td>52.0</td>\n",
       "      <td>ACTIVE</td>\n",
       "      <td>46-55</td>\n",
       "      <td>Accessories</td>\n",
       "      <td>Ladieswear</td>\n",
       "    </tr>\n",
       "  </tbody>\n",
       "</table>\n",
       "</div>"
      ],
      "text/plain": [
       "                                         customer_id article_id  t_dat  \\\n",
       "0  8d99a2129f094cbf9805df408ed0a2bcb6ed642e4ec553...  794389001      0   \n",
       "1  00ee654ae8772c8a1ef31c53a07b582ef6dd9c82ed111f...  643642001      0   \n",
       "2  632cef22637bc0ac25a3d8aeda53ec3f1a08804b45fe30...  791798001      0   \n",
       "3  785a21b0d7ae32671b1950e347812f9bf739f0f5bf8cdc...  888026001      0   \n",
       "5  d58d96644c484bad86a9a4c48686ac26ae37fbdaf67459...  762656001      0   \n",
       "\n",
       "      price     month_sin     month_cos   age club_member_status age_group  \\\n",
       "0  0.033881 -8.660254e-01  5.000000e-01  29.0             ACTIVE     26-35   \n",
       "1  0.050831  5.000000e-01 -8.660254e-01  28.0             ACTIVE     26-35   \n",
       "2  0.067780  1.224647e-16 -1.000000e+00  31.0             ACTIVE     26-35   \n",
       "3  0.033881 -5.000000e-01 -8.660254e-01  27.0             ACTIVE     26-35   \n",
       "5  0.003373  1.000000e+00  6.123234e-17  52.0             ACTIVE     46-55   \n",
       "\n",
       "  garment_group_name index_group_name  \n",
       "0       Jersey Fancy       Ladieswear  \n",
       "1        Accessories       Ladieswear  \n",
       "2            Outdoor       Ladieswear  \n",
       "3       Jersey Fancy       Ladieswear  \n",
       "5        Accessories       Ladieswear  "
      ]
     },
     "execution_count": 11,
     "metadata": {},
     "output_type": "execute_result"
    }
   ],
   "source": [
    "dataset.properties[\"train_df\"].head()"
   ]
  },
  {
   "cell_type": "code",
   "execution_count": 25,
   "id": "5de1ca7f-87c6-4038-9137-1b6b3e33e270",
   "metadata": {},
   "outputs": [],
   "source": [
    "query_model_factory = training.two_tower.QueryTowerFactory(dataset = dataset)\n",
    "query_model = query_model_factory.build()"
   ]
  },
  {
   "cell_type": "code",
   "execution_count": 27,
   "id": "45915daf-cc38-4dee-af43-1996492c4a5b",
   "metadata": {},
   "outputs": [],
   "source": [
    "item_model_factory = training.two_tower.ItemTowerFactory(dataset=dataset)\n",
    "item_model = item_model_factory.build()"
   ]
  },
  {
   "cell_type": "markdown",
   "id": "ba0a1177-edc7-4873-936f-9ce0b0134928",
   "metadata": {},
   "source": [
    "# Create a Two tower model"
   ]
  },
  {
   "cell_type": "code",
   "execution_count": 31,
   "id": "57741133-c900-4387-97ff-454e62ad5ce4",
   "metadata": {},
   "outputs": [],
   "source": [
    "model_factory = training.two_tower.TwoTowerFactory(dataset=dataset)\n",
    "model = model_factory.build(query_model=query_model, item_model=item_model)"
   ]
  },
  {
   "cell_type": "markdown",
   "id": "cae21fa4-43da-49d4-a1fd-626d00b16123",
   "metadata": {},
   "source": [
    "# Train Two Tower"
   ]
  },
  {
   "cell_type": "code",
   "execution_count": 33,
   "id": "8b15c9cd-17d4-4a4b-8c94-4497c8781380",
   "metadata": {},
   "outputs": [
    {
     "name": "stdout",
     "output_type": "stream",
     "text": [
      "2025-07-29 18:56:57,235 WARNING: At this time, the v2.11+ optimizer `tf.keras.optimizers.AdamW` runs slowly on M1/M2 Macs, please use the legacy Keras optimizer instead, located at `tf.keras.optimizers.legacy.AdamW`.\n",
      "Epoch 1/10\n",
      "8/8 [==============================] - 0s 19ms/step - loss: 9272.8077 - regularization_loss: 0.0000e+00 - total_loss: 9272.8077 - val_factorized_top_k/top_1_categorical_accuracy: 0.0000e+00 - val_factorized_top_k/top_5_categorical_accuracy: 0.0000e+00 - val_factorized_top_k/top_10_categorical_accuracy: 0.0000e+00 - val_factorized_top_k/top_50_categorical_accuracy: 0.0000e+00 - val_factorized_top_k/top_100_categorical_accuracy: 0.0000e+00 - val_loss: 25093.6309 - val_regularization_loss: 0.0000e+00 - val_total_loss: 25093.6309\n",
      "Epoch 2/10\n",
      "8/8 [==============================] - 0s 12ms/step - loss: 9151.7023 - regularization_loss: 0.0000e+00 - total_loss: 9151.7023 - val_factorized_top_k/top_1_categorical_accuracy: 0.0000e+00 - val_factorized_top_k/top_5_categorical_accuracy: 0.0000e+00 - val_factorized_top_k/top_10_categorical_accuracy: 0.0000e+00 - val_factorized_top_k/top_50_categorical_accuracy: 0.0000e+00 - val_factorized_top_k/top_100_categorical_accuracy: 0.0000e+00 - val_loss: 25539.3789 - val_regularization_loss: 0.0000e+00 - val_total_loss: 25539.3789\n",
      "Epoch 3/10\n",
      "8/8 [==============================] - 0s 12ms/step - loss: 8277.8871 - regularization_loss: 0.0000e+00 - total_loss: 8277.8871 - val_factorized_top_k/top_1_categorical_accuracy: 0.0000e+00 - val_factorized_top_k/top_5_categorical_accuracy: 0.0000e+00 - val_factorized_top_k/top_10_categorical_accuracy: 0.0000e+00 - val_factorized_top_k/top_50_categorical_accuracy: 0.0000e+00 - val_factorized_top_k/top_100_categorical_accuracy: 0.0000e+00 - val_loss: 25559.9727 - val_regularization_loss: 0.0000e+00 - val_total_loss: 25559.9727\n",
      "Epoch 4/10\n",
      "8/8 [==============================] - 0s 12ms/step - loss: 7806.5133 - regularization_loss: 0.0000e+00 - total_loss: 7806.5133 - val_factorized_top_k/top_1_categorical_accuracy: 0.0000e+00 - val_factorized_top_k/top_5_categorical_accuracy: 0.0000e+00 - val_factorized_top_k/top_10_categorical_accuracy: 0.0000e+00 - val_factorized_top_k/top_50_categorical_accuracy: 0.0000e+00 - val_factorized_top_k/top_100_categorical_accuracy: 0.0000e+00 - val_loss: 27928.8672 - val_regularization_loss: 0.0000e+00 - val_total_loss: 27928.8672\n",
      "Epoch 5/10\n",
      "8/8 [==============================] - 0s 12ms/step - loss: 7470.8530 - regularization_loss: 0.0000e+00 - total_loss: 7470.8530 - val_factorized_top_k/top_1_categorical_accuracy: 0.0000e+00 - val_factorized_top_k/top_5_categorical_accuracy: 0.0000e+00 - val_factorized_top_k/top_10_categorical_accuracy: 0.0000e+00 - val_factorized_top_k/top_50_categorical_accuracy: 0.0000e+00 - val_factorized_top_k/top_100_categorical_accuracy: 0.0000e+00 - val_loss: 29633.7520 - val_regularization_loss: 0.0000e+00 - val_total_loss: 29633.7520\n",
      "Epoch 6/10\n",
      "8/8 [==============================] - 0s 13ms/step - loss: 7048.6674 - regularization_loss: 0.0000e+00 - total_loss: 7048.6674 - val_factorized_top_k/top_1_categorical_accuracy: 0.0000e+00 - val_factorized_top_k/top_5_categorical_accuracy: 0.0000e+00 - val_factorized_top_k/top_10_categorical_accuracy: 0.0000e+00 - val_factorized_top_k/top_50_categorical_accuracy: 0.0000e+00 - val_factorized_top_k/top_100_categorical_accuracy: 0.0000e+00 - val_loss: 30631.2676 - val_regularization_loss: 0.0000e+00 - val_total_loss: 30631.2676\n",
      "Epoch 7/10\n",
      "8/8 [==============================] - 0s 11ms/step - loss: 7114.9442 - regularization_loss: 0.0000e+00 - total_loss: 7114.9442 - val_factorized_top_k/top_1_categorical_accuracy: 0.0000e+00 - val_factorized_top_k/top_5_categorical_accuracy: 0.0000e+00 - val_factorized_top_k/top_10_categorical_accuracy: 0.0000e+00 - val_factorized_top_k/top_50_categorical_accuracy: 0.0000e+00 - val_factorized_top_k/top_100_categorical_accuracy: 0.0000e+00 - val_loss: 33229.2227 - val_regularization_loss: 0.0000e+00 - val_total_loss: 33229.2227\n",
      "Epoch 8/10\n",
      "8/8 [==============================] - 0s 12ms/step - loss: 6477.4346 - regularization_loss: 0.0000e+00 - total_loss: 6477.4346 - val_factorized_top_k/top_1_categorical_accuracy: 0.0000e+00 - val_factorized_top_k/top_5_categorical_accuracy: 0.0000e+00 - val_factorized_top_k/top_10_categorical_accuracy: 0.0000e+00 - val_factorized_top_k/top_50_categorical_accuracy: 0.0000e+00 - val_factorized_top_k/top_100_categorical_accuracy: 0.0000e+00 - val_loss: 33722.2188 - val_regularization_loss: 0.0000e+00 - val_total_loss: 33722.2188\n",
      "Epoch 9/10\n",
      "8/8 [==============================] - 0s 11ms/step - loss: 6239.7949 - regularization_loss: 0.0000e+00 - total_loss: 6239.7949 - val_factorized_top_k/top_1_categorical_accuracy: 0.0000e+00 - val_factorized_top_k/top_5_categorical_accuracy: 0.0000e+00 - val_factorized_top_k/top_10_categorical_accuracy: 0.0000e+00 - val_factorized_top_k/top_50_categorical_accuracy: 0.0000e+00 - val_factorized_top_k/top_100_categorical_accuracy: 0.0000e+00 - val_loss: 34428.3555 - val_regularization_loss: 0.0000e+00 - val_total_loss: 34428.3555\n",
      "Epoch 10/10\n",
      "8/8 [==============================] - 0s 11ms/step - loss: 6263.7459 - regularization_loss: 0.0000e+00 - total_loss: 6263.7459 - val_factorized_top_k/top_1_categorical_accuracy: 0.0000e+00 - val_factorized_top_k/top_5_categorical_accuracy: 0.0000e+00 - val_factorized_top_k/top_10_categorical_accuracy: 0.0000e+00 - val_factorized_top_k/top_50_categorical_accuracy: 0.0000e+00 - val_factorized_top_k/top_100_categorical_accuracy: 0.0000e+00 - val_loss: 36061.6641 - val_regularization_loss: 0.0000e+00 - val_total_loss: 36061.6641\n"
     ]
    }
   ],
   "source": [
    "trainer = training.two_tower.TwoTowerTrainer(dataset=dataset, model=model)\n",
    "history = trainer.train(train_ds, val_ds)"
   ]
  },
  {
   "cell_type": "code",
   "execution_count": 35,
   "id": "944aa832-c4b4-4ac3-b848-e6ea08c6fa26",
   "metadata": {},
   "outputs": [
    {
     "data": {
      "image/png": "[encoded data removed]",
      "text/plain": [
       "<Figure size 1000x600 with 2 Axes>"
      ]
     },
     "metadata": {},
     "output_type": "display_data"
    }
   ],
   "source": [
    "import matplotlib.pyplot as plt\n",
    "\n",
    "# Create figure with two subplots\n",
    "fig, (ax1, ax2) = plt.subplots(2, 1, figsize=(10, 6))\n",
    "\n",
    "# Training loss subplot\n",
    "ax1.plot(history.history[\"loss\"], label=\"Training Loss\", color=\"blue\")\n",
    "ax1.set_title(\"Training Loss Over Time\")\n",
    "ax1.set_xlabel(\"Epoch\")\n",
    "ax1.set_ylabel(\"Loss\")\n",
    "ax1.legend()\n",
    "ax1.grid(True)\n",
    "\n",
    "# Validation loss subplot\n",
    "ax2.plot(history.history[\"val_loss\"], label=\"Validation Loss\", color=\"red\")\n",
    "ax2.set_title(\"Validation Loss Over Time\")\n",
    "ax2.set_xlabel(\"Epoch\")\n",
    "ax2.set_ylabel(\"Loss\")\n",
    "ax2.legend()\n",
    "ax2.grid(True)\n",
    "\n",
    "# Adjust layout to prevent overlap\n",
    "plt.tight_layout()\n",
    "# plt.show() # Uncomment to show the plot"
   ]
  },
  {
   "cell_type": "code",
   "execution_count": 40,
   "id": "4b4405d8-be6a-490d-8929-991120a72eed",
   "metadata": {},
   "outputs": [],
   "source": [
    "model_registry = project.get_model_registry()"
   ]
  },
  {
   "cell_type": "code",
   "execution_count": 43,
   "id": "0da6b630-ba99-4e87-9aee-3cd58ebb812f",
   "metadata": {},
   "outputs": [
    {
     "name": "stdout",
     "output_type": "stream",
     "text": [
      "2025-07-29 19:09:12,993 INFO: Function `compute_embedding` contains input name(s) table_handle, 7087, resource with unsupported characters which will be renamed to query_tower_1_sequential_2_string_lookup_1_none_lookup_lookuptablefindv2_table_handle, query_tower_1_sequential_2_embedding_1_embedding_lookup_7087, query_tower_1_sequential_3_dense_3_biasadd_readvariableop_resource in the SavedModel.\n",
      "2025-07-29 19:09:13,212 INFO: Assets written to: query_model/assets\n"
     ]
    },
    {
     "data": {
      "application/vnd.jupyter.widget-view+json": {
       "model_id": "c7279b170a574bda9aac97960639bb94",
       "version_major": 2,
       "version_minor": 0
      },
      "text/plain": [
       "  0%|          | 0/6 [00:00<?, ?it/s]"
      ]
     },
     "metadata": {},
     "output_type": "display_data"
    },
    {
     "data": {
      "application/vnd.jupyter.widget-view+json": {
       "model_id": "efee328b2ceb4d40b1c132d3c6869eb8",
       "version_major": 2,
       "version_minor": 0
      },
      "text/plain": [
       "Uploading /Users/xayhanmonty/Desktop/smart-fit-recs/notebooks/query_model/fingerprint.pb: 0.000%|          | 0…"
      ]
     },
     "metadata": {},
     "output_type": "display_data"
    },
    {
     "data": {
      "application/vnd.jupyter.widget-view+json": {
       "model_id": "7bd8d7e6d0b54f0fa5cb2cd2e95490da",
       "version_major": 2,
       "version_minor": 0
      },
      "text/plain": [
       "Uploading /Users/xayhanmonty/Desktop/smart-fit-recs/notebooks/query_model/saved_model.pb: 0.000%|          | 0…"
      ]
     },
     "metadata": {},
     "output_type": "display_data"
    },
    {
     "data": {
      "application/vnd.jupyter.widget-view+json": {
       "model_id": "ec60045b6fc24227b0b1e0832df7f11e",
       "version_major": 2,
       "version_minor": 0
      },
      "text/plain": [
       "Uploading /Users/xayhanmonty/Desktop/smart-fit-recs/notebooks/query_model/variables/variables.data-00000-of-00…"
      ]
     },
     "metadata": {},
     "output_type": "display_data"
    },
    {
     "data": {
      "application/vnd.jupyter.widget-view+json": {
       "model_id": "457b2894d368447aae298229968daef3",
       "version_major": 2,
       "version_minor": 0
      },
      "text/plain": [
       "Uploading /Users/xayhanmonty/Desktop/smart-fit-recs/notebooks/query_model/variables/variables.index: 0.000%|  …"
      ]
     },
     "metadata": {},
     "output_type": "display_data"
    },
    {
     "data": {
      "application/vnd.jupyter.widget-view+json": {
       "model_id": "bfc59cb492e54a99a2583bb7c3477760",
       "version_major": 2,
       "version_minor": 0
      },
      "text/plain": [
       "Uploading /Users/xayhanmonty/Desktop/smart-fit-recs/notebooks/input_example.json: 0.000%|          | 0/166 ela…"
      ]
     },
     "metadata": {},
     "output_type": "display_data"
    },
    {
     "data": {
      "application/vnd.jupyter.widget-view+json": {
       "model_id": "8d5de76363b244389a65b5434df6aed9",
       "version_major": 2,
       "version_minor": 0
      },
      "text/plain": [
       "Uploading /Users/xayhanmonty/Desktop/smart-fit-recs/notebooks/model_schema.json: 0.000%|          | 0/852 elap…"
      ]
     },
     "metadata": {},
     "output_type": "display_data"
    },
    {
     "name": "stdout",
     "output_type": "stream",
     "text": [
      "Model created, explore it at https://c.app.hopsworks.ai:443/p/1239220/models/query_model/1\n",
      "2025-07-29 19:09:34,962 INFO: Assets written to: candidate_model/assets\n"
     ]
    },
    {
     "data": {
      "application/vnd.jupyter.widget-view+json": {
       "model_id": "3fb109f46e8b4ee28a70d761a75be92c",
       "version_major": 2,
       "version_minor": 0
      },
      "text/plain": [
       "  0%|          | 0/6 [00:00<?, ?it/s]"
      ]
     },
     "metadata": {},
     "output_type": "display_data"
    },
    {
     "data": {
      "application/vnd.jupyter.widget-view+json": {
       "model_id": "958a00ad034542968768ec353e1b6021",
       "version_major": 2,
       "version_minor": 0
      },
      "text/plain": [
       "Uploading /Users/xayhanmonty/Desktop/smart-fit-recs/notebooks/candidate_model/fingerprint.pb: 0.000%|         …"
      ]
     },
     "metadata": {},
     "output_type": "display_data"
    },
    {
     "data": {
      "application/vnd.jupyter.widget-view+json": {
       "model_id": "8f318bf1afd545cbac3d1b7443af8113",
       "version_major": 2,
       "version_minor": 0
      },
      "text/plain": [
       "Uploading /Users/xayhanmonty/Desktop/smart-fit-recs/notebooks/candidate_model/saved_model.pb: 0.000%|         …"
      ]
     },
     "metadata": {},
     "output_type": "display_data"
    },
    {
     "data": {
      "application/vnd.jupyter.widget-view+json": {
       "model_id": "b21ff7a0ed444290b2d102753c58d169",
       "version_major": 2,
       "version_minor": 0
      },
      "text/plain": [
       "Uploading /Users/xayhanmonty/Desktop/smart-fit-recs/notebooks/candidate_model/variables/variables.data-00000-o…"
      ]
     },
     "metadata": {},
     "output_type": "display_data"
    },
    {
     "data": {
      "application/vnd.jupyter.widget-view+json": {
       "model_id": "f4f62898840f49ec935901c56821f722",
       "version_major": 2,
       "version_minor": 0
      },
      "text/plain": [
       "Uploading /Users/xayhanmonty/Desktop/smart-fit-recs/notebooks/candidate_model/variables/variables.index: 0.000…"
      ]
     },
     "metadata": {},
     "output_type": "display_data"
    },
    {
     "data": {
      "application/vnd.jupyter.widget-view+json": {
       "model_id": "bdc5951225f2401e9de21c8dd7437a60",
       "version_major": 2,
       "version_minor": 0
      },
      "text/plain": [
       "Uploading /Users/xayhanmonty/Desktop/smart-fit-recs/notebooks/input_example.json: 0.000%|          | 0/97 elap…"
      ]
     },
     "metadata": {},
     "output_type": "display_data"
    },
    {
     "data": {
      "application/vnd.jupyter.widget-view+json": {
       "model_id": "9668e53b6cbc46f28980e4dc9f96320b",
       "version_major": 2,
       "version_minor": 0
      },
      "text/plain": [
       "Uploading /Users/xayhanmonty/Desktop/smart-fit-recs/notebooks/model_schema.json: 0.000%|          | 0/852 elap…"
      ]
     },
     "metadata": {},
     "output_type": "display_data"
    },
    {
     "name": "stdout",
     "output_type": "stream",
     "text": [
      "Model created, explore it at https://c.app.hopsworks.ai:443/p/1239220/models/candidate_model/1\n"
     ]
    }
   ],
   "source": [
    "query_model = hopsworks_integration.two_tower_serving.HopsworksQueryModel(\n",
    "    model=model.query_model\n",
    ")\n",
    "query_model.register(\n",
    "    model_registry=model_registry,\n",
    "    feature_view=feature_view,\n",
    "    query_df=dataset.properties[\"query_df\"],\n",
    ")\n",
    "\n",
    "item_model = hopsworks_integration.two_tower_serving.HopsworksCandidateModel(\n",
    "    model=model.item_model\n",
    ")\n",
    "item_model.register(\n",
    "    model_registry=model_registry,\n",
    "    feature_view=feature_view,\n",
    "    item_df=dataset.properties[\"item_df\"],\n",
    ")"
   ]
  },
  {
   "cell_type": "code",
   "execution_count": 44,
   "id": "efbb2683-bb3c-40de-bdd7-5b955605a0fe",
   "metadata": {},
   "outputs": [
    {
     "name": "stderr",
     "output_type": "stream",
     "text": [
      "\u001b[32m2025-07-29 19:09:57.049\u001b[0m | \u001b[1mINFO    \u001b[0m | \u001b[36m__main__\u001b[0m:\u001b[36m<module>\u001b[0m:\u001b[36m4\u001b[0m - \u001b[1m⌛️ Notebook Execution time: 3109.00 seconds ~ 51.82 minutes\u001b[0m\n"
     ]
    }
   ],
   "source": [
    "notebook_end_time = time.time()\n",
    "notebook_execution_time = notebook_end_time - notebook_start_time\n",
    "\n",
    "logger.info(\n",
    "    f\"⌛️ Notebook Execution time: {notebook_execution_time:.2f} seconds ~ {notebook_execution_time / 60:.2f} minutes\"\n",
    ")"
   ]
  }
 ],
 "metadata": {
  "kernelspec": {
   "display_name": "Python (smart-fit-recs)",
   "language": "python",
   "name": "smart-fit-recs"
  },
  "language_info": {
   "codemirror_mode": {
    "name": "ipython",
    "version": 3
   },
   "file_extension": ".py",
   "mimetype": "text/x-python",
   "name": "python",
   "nbconvert_exporter": "python",
   "pygments_lexer": "ipython3",
   "version": "3.11.9"
  }
 },
 "nbformat": 4,
 "nbformat_minor": 5
}
