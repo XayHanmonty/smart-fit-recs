{
 "cells": [
  {
   "cell_type": "code",
   "execution_count": 2,
   "id": "df13ce57-c51a-4509-aacc-faecc3ec0154",
   "metadata": {},
   "outputs": [],
   "source": [
    "import time \n",
    "notebook_start_time = time.time()"
   ]
  },
  {
   "cell_type": "code",
   "execution_count": 3,
   "id": "2edf3401-16f9-4571-87c0-6bb14acfc96d",
   "metadata": {},
   "outputs": [
    {
     "name": "stdout",
     "output_type": "stream",
     "text": [
      "⛳️ Local environment\n",
      "Adding the following directory to the PYTHONPATH: /Users/xayhanmonty/Desktop/smart-fit-recs\n"
     ]
    }
   ],
   "source": [
    "import sys\n",
    "from pathlib import Path\n",
    "\n",
    "\n",
    "def is_google_colab() -> bool:\n",
    "    if \"google.colab\" in str(get_ipython()):\n",
    "        return True\n",
    "    return False\n",
    "\n",
    "\n",
    "def clone_repository() -> None:\n",
    "    !git clone https://github.com/XayHanmonty/smart-fit-recs.git\n",
    "    %cd smart-fit-recs/\n",
    "\n",
    "\n",
    "def install_dependencies() -> None:\n",
    "    !pip install --upgrade uv\n",
    "    !uv pip install --all-extras --system --requirement pyproject.toml\n",
    "\n",
    "\n",
    "if is_google_colab():\n",
    "    clone_repository()\n",
    "    install_dependencies()\n",
    "\n",
    "    root_dir = str(Path().absolute())\n",
    "    print(\"⛳️ Google Colab environment\")\n",
    "else:\n",
    "    root_dir = str(Path().absolute().parent)\n",
    "    print(\"⛳️ Local environment\")\n",
    "\n",
    "# Add the root directory to the `PYTHONPATH` to use the `recsys` Python module from the notebook.\n",
    "if root_dir not in sys.path:\n",
    "    print(f\"Adding the following directory to the PYTHONPATH: {root_dir}\")\n",
    "    sys.path.append(root_dir)"
   ]
  },
  {
   "cell_type": "code",
   "execution_count": 15,
   "id": "f446b07a-5758-4d94-9167-50e636e40553",
   "metadata": {},
   "outputs": [
    {
     "name": "stdout",
     "output_type": "stream",
     "text": [
      "The autoreload extension is already loaded. To reload it, use:\n",
      "  %reload_ext autoreload\n"
     ]
    }
   ],
   "source": [
    "%load_ext autoreload\n",
    "%autoreload 2\n",
    "\n",
    "import warnings\n",
    "\n",
    "warnings.filterwarnings(\"ignore\")\n",
    "\n",
    "from loguru import logger\n",
    "\n",
    "from recsys import hopsworks_integration, training\n",
    "from recsys.config import settings"
   ]
  },
  {
   "cell_type": "code",
   "execution_count": 16,
   "id": "feda1c3e-67b5-4e70-85fd-e2a630d384cb",
   "metadata": {},
   "outputs": [
    {
     "name": "stdout",
     "output_type": "stream",
     "text": [
      "{'CUSTOMER_DATA_SIZE': <CustomerDatasetSize.SMALL: 'SMALL'>,\n",
      " 'CUSTOM_HOPSWORKS_INFERENCE_ENV': 'custom_env_name',\n",
      " 'FEATURES_EMBEDDING_MODEL_ID': 'all-MiniLM-L6-v2',\n",
      " 'HOPSWORKS_API_KEY': SecretStr('**********'),\n",
      " 'OPENAI_API_KEY': SecretStr('**********'),\n",
      " 'OPENAI_MODEL_ID': 'gpt-4o-mini',\n",
      " 'RANKING_DATASET_VALIDATON_SPLIT_SIZE': 0.1,\n",
      " 'RANKING_EARLY_STOPPING_ROUNDS': 5,\n",
      " 'RANKING_ITERATIONS': 100,\n",
      " 'RANKING_LEARNING_RATE': 0.2,\n",
      " 'RANKING_MODEL_TYPE': 'ranking',\n",
      " 'RANKING_SCALE_POS_WEIGHT': 10,\n",
      " 'RECSYS_DIR': PosixPath('/Users/xayhanmonty/Desktop/smart-fit-recs/recsys'),\n",
      " 'TWO_TOWER_DATASET_TEST_SPLIT_SIZE': 0.1,\n",
      " 'TWO_TOWER_DATASET_VALIDATON_SPLIT_SIZE': 0.1,\n",
      " 'TWO_TOWER_LEARNING_RATE': 0.01,\n",
      " 'TWO_TOWER_MODEL_BATCH_SIZE': 2048,\n",
      " 'TWO_TOWER_MODEL_EMBEDDING_SIZE': 16,\n",
      " 'TWO_TOWER_NUM_EPOCHS': 10,\n",
      " 'TWO_TOWER_WEIGHT_DECAY': 0.001}\n"
     ]
    }
   ],
   "source": [
    "from pprint import pprint\n",
    "\n",
    "pprint(dict(settings))\n"
   ]
  },
  {
   "cell_type": "code",
   "execution_count": 6,
   "id": "a9d14165-a790-4030-a84a-f839bd39823c",
   "metadata": {},
   "outputs": [
    {
     "name": "stderr",
     "output_type": "stream",
     "text": [
      "\u001b[32m2025-08-05 12:11:28.718\u001b[0m | \u001b[1mINFO    \u001b[0m | \u001b[36mrecsys.hopsworks_integration.feature_store\u001b[0m:\u001b[36mget_feature_store\u001b[0m:\u001b[36m13\u001b[0m - \u001b[1mLoging to Hopsworks using HOPSWORKS_API_KEY env var.\u001b[0m\n"
     ]
    },
    {
     "name": "stdout",
     "output_type": "stream",
     "text": [
      "2025-08-05 12:11:28,719 INFO: Initializing external client\n",
      "2025-08-05 12:11:28,719 INFO: Base URL: https://c.app.hopsworks.ai:443\n"
     ]
    },
    {
     "name": "stderr",
     "output_type": "stream",
     "text": [
      "\n",
      "\n"
     ]
    },
    {
     "name": "stdout",
     "output_type": "stream",
     "text": [
      "2025-08-05 12:11:29,956 INFO: Python Engine initialized.\n",
      "\n",
      "Logged in to project, explore it here https://c.app.hopsworks.ai:443/p/1239220\n"
     ]
    }
   ],
   "source": [
    "project, fs = hopsworks_integration.get_feature_store()"
   ]
  },
  {
   "cell_type": "markdown",
   "id": "a0323668-8fbe-4254-af14-581b1b3be4d0",
   "metadata": {},
   "source": [
    "# Get Training Data"
   ]
  },
  {
   "cell_type": "code",
   "execution_count": 7,
   "id": "72e382cd-c100-41b6-990a-cfc9d1458a27",
   "metadata": {},
   "outputs": [],
   "source": [
    "feature_view_ranking = hopsworks_integration.feature_store.create_ranking_feature_views(\n",
    "    fs\n",
    ")"
   ]
  },
  {
   "cell_type": "code",
   "execution_count": 8,
   "id": "c8851eed-3d99-417a-a4ef-f4903969fa25",
   "metadata": {},
   "outputs": [
    {
     "name": "stdout",
     "output_type": "stream",
     "text": [
      "Finished: Reading data from Hopsworks, using Hopsworks Feature Query Service (5.99s) \n"
     ]
    },
    {
     "name": "stderr",
     "output_type": "stream",
     "text": [
      "VersionWarning: Incremented version to `3`.\n"
     ]
    },
    {
     "data": {
      "text/html": [
       "<div>\n",
       "<style scoped>\n",
       "    .dataframe tbody tr th:only-of-type {\n",
       "        vertical-align: middle;\n",
       "    }\n",
       "\n",
       "    .dataframe tbody tr th {\n",
       "        vertical-align: top;\n",
       "    }\n",
       "\n",
       "    .dataframe thead th {\n",
       "        text-align: right;\n",
       "    }\n",
       "</style>\n",
       "<table border=\"1\" class=\"dataframe\">\n",
       "  <thead>\n",
       "    <tr style=\"text-align: right;\">\n",
       "      <th></th>\n",
       "      <th>age</th>\n",
       "      <th>product_type_name</th>\n",
       "      <th>product_group_name</th>\n",
       "      <th>graphical_appearance_name</th>\n",
       "      <th>colour_group_name</th>\n",
       "      <th>perceived_colour_value_name</th>\n",
       "      <th>perceived_colour_master_name</th>\n",
       "      <th>department_name</th>\n",
       "      <th>index_name</th>\n",
       "      <th>index_group_name</th>\n",
       "      <th>section_name</th>\n",
       "      <th>garment_group_name</th>\n",
       "      <th>month_sin</th>\n",
       "      <th>month_cos</th>\n",
       "    </tr>\n",
       "  </thead>\n",
       "  <tbody>\n",
       "    <tr>\n",
       "      <th>0</th>\n",
       "      <td>21.0</td>\n",
       "      <td>Leggings/Tights</td>\n",
       "      <td>Garment Lower body</td>\n",
       "      <td>Colour blocking</td>\n",
       "      <td>Grey</td>\n",
       "      <td>Dark</td>\n",
       "      <td>Grey</td>\n",
       "      <td>Ladies Sport Bottoms</td>\n",
       "      <td>Sport</td>\n",
       "      <td>Sport</td>\n",
       "      <td>Ladies H&amp;M Sport</td>\n",
       "      <td>Jersey Fancy</td>\n",
       "      <td>NaN</td>\n",
       "      <td>NaN</td>\n",
       "    </tr>\n",
       "    <tr>\n",
       "      <th>1</th>\n",
       "      <td>29.0</td>\n",
       "      <td>Bra</td>\n",
       "      <td>Underwear</td>\n",
       "      <td>Solid</td>\n",
       "      <td>Light Beige</td>\n",
       "      <td>Dusty Light</td>\n",
       "      <td>Beige</td>\n",
       "      <td>Casual Lingerie</td>\n",
       "      <td>Lingeries/Tights</td>\n",
       "      <td>Ladieswear</td>\n",
       "      <td>Womens Lingerie</td>\n",
       "      <td>Under-, Nightwear</td>\n",
       "      <td>NaN</td>\n",
       "      <td>NaN</td>\n",
       "    </tr>\n",
       "    <tr>\n",
       "      <th>2</th>\n",
       "      <td>21.0</td>\n",
       "      <td>Sunglasses</td>\n",
       "      <td>Accessories</td>\n",
       "      <td>Solid</td>\n",
       "      <td>Silver</td>\n",
       "      <td>Light</td>\n",
       "      <td>Metal</td>\n",
       "      <td>Small Accessories</td>\n",
       "      <td>Menswear</td>\n",
       "      <td>Menswear</td>\n",
       "      <td>Men Accessories</td>\n",
       "      <td>Accessories</td>\n",
       "      <td>NaN</td>\n",
       "      <td>NaN</td>\n",
       "    </tr>\n",
       "  </tbody>\n",
       "</table>\n",
       "</div>"
      ],
      "text/plain": [
       "    age product_type_name  product_group_name graphical_appearance_name  \\\n",
       "0  21.0   Leggings/Tights  Garment Lower body           Colour blocking   \n",
       "1  29.0               Bra           Underwear                     Solid   \n",
       "2  21.0        Sunglasses         Accessories                     Solid   \n",
       "\n",
       "  colour_group_name perceived_colour_value_name perceived_colour_master_name  \\\n",
       "0              Grey                        Dark                         Grey   \n",
       "1       Light Beige                 Dusty Light                        Beige   \n",
       "2            Silver                       Light                        Metal   \n",
       "\n",
       "        department_name        index_name index_group_name      section_name  \\\n",
       "0  Ladies Sport Bottoms             Sport            Sport  Ladies H&M Sport   \n",
       "1       Casual Lingerie  Lingeries/Tights       Ladieswear   Womens Lingerie   \n",
       "2     Small Accessories          Menswear         Menswear   Men Accessories   \n",
       "\n",
       "  garment_group_name  month_sin  month_cos  \n",
       "0       Jersey Fancy        NaN        NaN  \n",
       "1  Under-, Nightwear        NaN        NaN  \n",
       "2        Accessories        NaN        NaN  "
      ]
     },
     "execution_count": 8,
     "metadata": {},
     "output_type": "execute_result"
    }
   ],
   "source": [
    "X_train, X_val, y_train, y_val = feature_view_ranking.train_test_split(\n",
    "    test_size=settings.RANKING_DATASET_VALIDATON_SPLIT_SIZE,\n",
    "    description=\"Ranking training dataset\",\n",
    ")\n",
    "X_train.head(3)"
   ]
  },
  {
   "cell_type": "code",
   "execution_count": 9,
   "id": "adc000c5-79bc-4fdd-abb4-423ef9baf6e8",
   "metadata": {},
   "outputs": [
    {
     "data": {
      "text/html": [
       "<div>\n",
       "<style scoped>\n",
       "    .dataframe tbody tr th:only-of-type {\n",
       "        vertical-align: middle;\n",
       "    }\n",
       "\n",
       "    .dataframe tbody tr th {\n",
       "        vertical-align: top;\n",
       "    }\n",
       "\n",
       "    .dataframe thead th {\n",
       "        text-align: right;\n",
       "    }\n",
       "</style>\n",
       "<table border=\"1\" class=\"dataframe\">\n",
       "  <thead>\n",
       "    <tr style=\"text-align: right;\">\n",
       "      <th></th>\n",
       "      <th>label</th>\n",
       "    </tr>\n",
       "  </thead>\n",
       "  <tbody>\n",
       "    <tr>\n",
       "      <th>0</th>\n",
       "      <td>0</td>\n",
       "    </tr>\n",
       "    <tr>\n",
       "      <th>1</th>\n",
       "      <td>0</td>\n",
       "    </tr>\n",
       "    <tr>\n",
       "      <th>2</th>\n",
       "      <td>0</td>\n",
       "    </tr>\n",
       "  </tbody>\n",
       "</table>\n",
       "</div>"
      ],
      "text/plain": [
       "   label\n",
       "0      0\n",
       "1      0\n",
       "2      0"
      ]
     },
     "execution_count": 9,
     "metadata": {},
     "output_type": "execute_result"
    }
   ],
   "source": [
    "y_train.head(3)"
   ]
  },
  {
   "cell_type": "markdown",
   "id": "21a58559-f40a-423b-9b7d-caa41e258f10",
   "metadata": {},
   "source": [
    "# Training the ranking model"
   ]
  },
  {
   "cell_type": "code",
   "execution_count": 17,
   "id": "4e16241b-4c44-4c9f-b237-0efae56f5461",
   "metadata": {},
   "outputs": [],
   "source": [
    "model = training.ranking.RankingModelFactory.build()\n",
    "trainer = training.ranking.RankingModelTrainer(\n",
    "    model=model, train_dataset=(X_train, y_train), eval_dataset=(X_val, y_val)\n",
    ")"
   ]
  },
  {
   "cell_type": "code",
   "execution_count": 19,
   "id": "49906693-5466-4c9d-bd25-5102a11838d7",
   "metadata": {},
   "outputs": [
    {
     "name": "stdout",
     "output_type": "stream",
     "text": [
      "0:\tlearn: 0.5148530\ttest: 0.5148711\tbest: 0.5148711 (0)\ttotal: 16.9ms\tremaining: 1.67s\n",
      "1:\tlearn: 0.3950779\ttest: 0.3951065\tbest: 0.3951065 (1)\ttotal: 28.5ms\tremaining: 1.4s\n",
      "2:\tlearn: 0.3093823\ttest: 0.3094223\tbest: 0.3094223 (2)\ttotal: 49ms\tremaining: 1.58s\n",
      "3:\tlearn: 0.2456432\ttest: 0.2456895\tbest: 0.2456895 (3)\ttotal: 64.9ms\tremaining: 1.56s\n",
      "4:\tlearn: 0.1971382\ttest: 0.1971903\tbest: 0.1971903 (4)\ttotal: 82.3ms\tremaining: 1.56s\n",
      "5:\tlearn: 0.1596274\ttest: 0.1596844\tbest: 0.1596844 (5)\ttotal: 105ms\tremaining: 1.64s\n",
      "6:\tlearn: 0.1302530\ttest: 0.1303122\tbest: 0.1303122 (6)\ttotal: 125ms\tremaining: 1.66s\n",
      "7:\tlearn: 0.1070684\ttest: 0.1071299\tbest: 0.1071299 (7)\ttotal: 145ms\tremaining: 1.67s\n",
      "8:\tlearn: 0.0886812\ttest: 0.0887485\tbest: 0.0887485 (8)\ttotal: 167ms\tremaining: 1.69s\n",
      "9:\tlearn: 0.0740011\ttest: 0.0740713\tbest: 0.0740713 (9)\ttotal: 177ms\tremaining: 1.6s\n",
      "10:\tlearn: 0.0622745\ttest: 0.0623477\tbest: 0.0623477 (10)\ttotal: 196ms\tremaining: 1.58s\n",
      "11:\tlearn: 0.0528742\ttest: 0.0529501\tbest: 0.0529501 (11)\ttotal: 209ms\tremaining: 1.53s\n",
      "12:\tlearn: 0.0453370\ttest: 0.0454164\tbest: 0.0454164 (12)\ttotal: 220ms\tremaining: 1.47s\n",
      "13:\tlearn: 0.0392909\ttest: 0.0393733\tbest: 0.0393733 (13)\ttotal: 228ms\tremaining: 1.4s\n",
      "14:\tlearn: 0.0344494\ttest: 0.0345348\tbest: 0.0345348 (14)\ttotal: 239ms\tremaining: 1.35s\n",
      "15:\tlearn: 0.0305688\ttest: 0.0306566\tbest: 0.0306566 (15)\ttotal: 250ms\tremaining: 1.31s\n",
      "16:\tlearn: 0.0274661\ttest: 0.0275566\tbest: 0.0275566 (16)\ttotal: 258ms\tremaining: 1.26s\n",
      "17:\tlearn: 0.0249919\ttest: 0.0250848\tbest: 0.0250848 (17)\ttotal: 268ms\tremaining: 1.22s\n",
      "18:\tlearn: 0.0230205\ttest: 0.0231158\tbest: 0.0231158 (18)\ttotal: 275ms\tremaining: 1.17s\n",
      "19:\tlearn: 0.0214723\ttest: 0.0215691\tbest: 0.0215691 (19)\ttotal: 296ms\tremaining: 1.19s\n",
      "20:\tlearn: 0.0202270\ttest: 0.0203256\tbest: 0.0203256 (20)\ttotal: 307ms\tremaining: 1.16s\n",
      "21:\tlearn: 0.0192706\ttest: 0.0193703\tbest: 0.0193703 (21)\ttotal: 334ms\tremaining: 1.18s\n",
      "22:\tlearn: 0.0184939\ttest: 0.0185980\tbest: 0.0185980 (22)\ttotal: 360ms\tremaining: 1.21s\n",
      "23:\tlearn: 0.0178747\ttest: 0.0179780\tbest: 0.0179780 (23)\ttotal: 377ms\tremaining: 1.19s\n",
      "24:\tlearn: 0.0173872\ttest: 0.0174972\tbest: 0.0174972 (24)\ttotal: 392ms\tremaining: 1.18s\n",
      "25:\tlearn: 0.0169992\ttest: 0.0171106\tbest: 0.0171106 (25)\ttotal: 407ms\tremaining: 1.16s\n",
      "26:\tlearn: 0.0166927\ttest: 0.0168051\tbest: 0.0168051 (26)\ttotal: 414ms\tremaining: 1.12s\n",
      "27:\tlearn: 0.0164529\ttest: 0.0165666\tbest: 0.0165666 (27)\ttotal: 430ms\tremaining: 1.11s\n",
      "28:\tlearn: 0.0162599\ttest: 0.0163778\tbest: 0.0163778 (28)\ttotal: 444ms\tremaining: 1.09s\n",
      "29:\tlearn: 0.0161059\ttest: 0.0162244\tbest: 0.0162244 (29)\ttotal: 455ms\tremaining: 1.06s\n",
      "30:\tlearn: 0.0159883\ttest: 0.0161056\tbest: 0.0161056 (30)\ttotal: 470ms\tremaining: 1.05s\n",
      "31:\tlearn: 0.0158883\ttest: 0.0160089\tbest: 0.0160089 (31)\ttotal: 485ms\tremaining: 1.03s\n",
      "32:\tlearn: 0.0158084\ttest: 0.0159266\tbest: 0.0159266 (32)\ttotal: 507ms\tremaining: 1.03s\n",
      "33:\tlearn: 0.0157438\ttest: 0.0158591\tbest: 0.0158591 (33)\ttotal: 533ms\tremaining: 1.03s\n",
      "34:\tlearn: 0.0156893\ttest: 0.0158050\tbest: 0.0158050 (34)\ttotal: 549ms\tremaining: 1.02s\n",
      "35:\tlearn: 0.0156762\ttest: 0.0158062\tbest: 0.0158050 (34)\ttotal: 572ms\tremaining: 1.02s\n",
      "36:\tlearn: 0.0156364\ttest: 0.0157664\tbest: 0.0157664 (36)\ttotal: 594ms\tremaining: 1.01s\n",
      "37:\tlearn: 0.0156354\ttest: 0.0157678\tbest: 0.0157664 (36)\ttotal: 614ms\tremaining: 1s\n",
      "38:\tlearn: 0.0156003\ttest: 0.0157361\tbest: 0.0157361 (38)\ttotal: 629ms\tremaining: 984ms\n",
      "39:\tlearn: 0.0155835\ttest: 0.0157237\tbest: 0.0157237 (39)\ttotal: 661ms\tremaining: 991ms\n",
      "40:\tlearn: 0.0155570\ttest: 0.0157002\tbest: 0.0157002 (40)\ttotal: 709ms\tremaining: 1.02s\n",
      "41:\tlearn: 0.0155547\ttest: 0.0156927\tbest: 0.0156927 (41)\ttotal: 724ms\tremaining: 1000ms\n",
      "42:\tlearn: 0.0155546\ttest: 0.0156926\tbest: 0.0156926 (42)\ttotal: 735ms\tremaining: 974ms\n",
      "43:\tlearn: 0.0155546\ttest: 0.0156926\tbest: 0.0156926 (43)\ttotal: 744ms\tremaining: 947ms\n",
      "44:\tlearn: 0.0155321\ttest: 0.0156683\tbest: 0.0156683 (44)\ttotal: 764ms\tremaining: 934ms\n",
      "45:\tlearn: 0.0155318\ttest: 0.0156677\tbest: 0.0156677 (45)\ttotal: 781ms\tremaining: 917ms\n",
      "46:\tlearn: 0.0155310\ttest: 0.0156693\tbest: 0.0156677 (45)\ttotal: 794ms\tremaining: 896ms\n",
      "47:\tlearn: 0.0155308\ttest: 0.0156693\tbest: 0.0156677 (45)\ttotal: 805ms\tremaining: 872ms\n",
      "48:\tlearn: 0.0155307\ttest: 0.0156693\tbest: 0.0156677 (45)\ttotal: 817ms\tremaining: 851ms\n",
      "49:\tlearn: 0.0155121\ttest: 0.0156518\tbest: 0.0156518 (49)\ttotal: 837ms\tremaining: 837ms\n",
      "50:\tlearn: 0.0155120\ttest: 0.0156518\tbest: 0.0156518 (49)\ttotal: 850ms\tremaining: 816ms\n",
      "51:\tlearn: 0.0154963\ttest: 0.0156363\tbest: 0.0156363 (51)\ttotal: 867ms\tremaining: 800ms\n",
      "52:\tlearn: 0.0154818\ttest: 0.0156261\tbest: 0.0156261 (52)\ttotal: 883ms\tremaining: 783ms\n",
      "53:\tlearn: 0.0154808\ttest: 0.0156293\tbest: 0.0156261 (52)\ttotal: 901ms\tremaining: 768ms\n",
      "54:\tlearn: 0.0154808\ttest: 0.0156296\tbest: 0.0156261 (52)\ttotal: 917ms\tremaining: 750ms\n",
      "55:\tlearn: 0.0154808\ttest: 0.0156296\tbest: 0.0156261 (52)\ttotal: 922ms\tremaining: 724ms\n",
      "56:\tlearn: 0.0154756\ttest: 0.0156309\tbest: 0.0156261 (52)\ttotal: 950ms\tremaining: 717ms\n",
      "57:\tlearn: 0.0154744\ttest: 0.0156267\tbest: 0.0156261 (52)\ttotal: 972ms\tremaining: 704ms\n",
      "Stopped by overfitting detector  (5 iterations wait)\n",
      "\n",
      "bestTest = 0.01562605283\n",
      "bestIteration = 52\n",
      "\n",
      "Shrink model to first 53 iterations.\n"
     ]
    },
    {
     "data": {
      "text/plain": [
       "<catboost.core.CatBoostClassifier at 0x33c597450>"
      ]
     },
     "execution_count": 19,
     "metadata": {},
     "output_type": "execute_result"
    }
   ],
   "source": [
    "trainer.fit()"
   ]
  },
  {
   "cell_type": "markdown",
   "id": "fa85bdcc-a9de-4c4d-8040-30de6ed0a353",
   "metadata": {},
   "source": [
    "# Evaluating the ranking model"
   ]
  },
  {
   "cell_type": "code",
   "execution_count": 22,
   "id": "1e8f26ef-1cb5-4648-a3a7-8c0f7adb129a",
   "metadata": {},
   "outputs": [
    {
     "name": "stderr",
     "output_type": "stream",
     "text": [
      "\u001b[32m2025-08-05 17:40:55.331\u001b[0m | \u001b[1mINFO    \u001b[0m | \u001b[36mrecsys.training.ranking\u001b[0m:\u001b[36mevaluate\u001b[0m:\u001b[36m61\u001b[0m - \u001b[1m              precision    recall  f1-score   support\n",
      "\n",
      "           0       1.00      1.00      1.00     19845\n",
      "           1       0.95      1.00      0.98      1984\n",
      "\n",
      "    accuracy                           1.00     21829\n",
      "   macro avg       0.98      1.00      0.99     21829\n",
      "weighted avg       1.00      1.00      1.00     21829\n",
      "\u001b[0m\n"
     ]
    }
   ],
   "source": [
    "metrics = trainer.evaluate(log=True)"
   ]
  },
  {
   "cell_type": "code",
   "execution_count": 24,
   "id": "27ebf360-082e-462b-85c0-a84ce69977e4",
   "metadata": {},
   "outputs": [
    {
     "data": {
      "text/plain": [
       "{'month_sin': 55.32445368657355,\n",
       " 'month_cos': 42.22071705284765,\n",
       " 'section_name': 0.6085413330357645,\n",
       " 'age': 0.3601973770296773,\n",
       " 'product_type_name': 0.3239149136319295,\n",
       " 'perceived_colour_master_name': 0.2971606501498949,\n",
       " 'perceived_colour_value_name': 0.20539742674513603,\n",
       " 'index_group_name': 0.18372159929978635,\n",
       " 'index_name': 0.12657824005608703,\n",
       " 'colour_group_name': 0.1101035720130017,\n",
       " 'product_group_name': 0.10390734458091867,\n",
       " 'garment_group_name': 0.09575954475299199,\n",
       " 'graphical_appearance_name': 0.039547259283647315,\n",
       " 'department_name': 0.0}"
      ]
     },
     "execution_count": 24,
     "metadata": {},
     "output_type": "execute_result"
    }
   ],
   "source": [
    "trainer.get_feature_importance()\n"
   ]
  },
  {
   "cell_type": "code",
   "execution_count": 26,
   "id": "01ae8bfe-6153-4c78-86cd-ba6bea1ae609",
   "metadata": {},
   "outputs": [],
   "source": [
    "mr = project.get_model_registry()"
   ]
  },
  {
   "cell_type": "code",
   "execution_count": 28,
   "id": "d61d1d3f-0bb7-4f89-b705-73b7b825b83b",
   "metadata": {},
   "outputs": [
    {
     "data": {
      "application/vnd.jupyter.widget-view+json": {
       "model_id": "169f643395f04acd8735b887d2e0e2cf",
       "version_major": 2,
       "version_minor": 0
      },
      "text/plain": [
       "  0%|          | 0/6 [00:00<?, ?it/s]"
      ]
     },
     "metadata": {},
     "output_type": "display_data"
    },
    {
     "data": {
      "application/vnd.jupyter.widget-view+json": {
       "model_id": "cc2586bfc9934ddeb17a239dd137bbc0",
       "version_major": 2,
       "version_minor": 0
      },
      "text/plain": [
       "Uploading /Users/xayhanmonty/Desktop/smart-fit-recs/notebooks/ranking_model.pkl: 0.000%|          | 0/325736 e…"
      ]
     },
     "metadata": {},
     "output_type": "display_data"
    },
    {
     "data": {
      "application/vnd.jupyter.widget-view+json": {
       "model_id": "d4faec90ca5042fb8207b294884a33f9",
       "version_major": 2,
       "version_minor": 0
      },
      "text/plain": [
       "Uploading /Users/xayhanmonty/Desktop/smart-fit-recs/notebooks/input_example.json: 0.000%|          | 0/466 ela…"
      ]
     },
     "metadata": {},
     "output_type": "display_data"
    },
    {
     "data": {
      "application/vnd.jupyter.widget-view+json": {
       "model_id": "b1d37819edde4d9794fa88a22b2c0b23",
       "version_major": 2,
       "version_minor": 0
      },
      "text/plain": [
       "Uploading /Users/xayhanmonty/Desktop/smart-fit-recs/notebooks/model_schema.json: 0.000%|          | 0/1269 ela…"
      ]
     },
     "metadata": {},
     "output_type": "display_data"
    },
    {
     "name": "stdout",
     "output_type": "stream",
     "text": [
      "Model created, explore it at https://c.app.hopsworks.ai:443/p/1239220/models/ranking_model/1\n"
     ]
    }
   ],
   "source": [
    "ranking_module = hopsworks_integration.ranking_serving.HopsworksRankingModel(\n",
    "    model=model\n",
    ")\n",
    "ranking_module.register(mr, feature_view_ranking, X_train, metrics)"
   ]
  },
  {
   "cell_type": "code",
   "execution_count": 29,
   "id": "e5492180-4885-4eb5-b986-a85dc4a3c3a4",
   "metadata": {},
   "outputs": [
    {
     "name": "stderr",
     "output_type": "stream",
     "text": [
      "\u001b[32m2025-08-05 17:42:33.990\u001b[0m | \u001b[1mINFO    \u001b[0m | \u001b[36m__main__\u001b[0m:\u001b[36m<module>\u001b[0m:\u001b[36m4\u001b[0m - \u001b[1m⌛️ Notebook Execution time: 19871.35 seconds ~ 331.19 minutes\u001b[0m\n"
     ]
    }
   ],
   "source": [
    "notebook_end_time = time.time()\n",
    "notebook_execution_time = notebook_end_time - notebook_start_time\n",
    "\n",
    "logger.info(\n",
    "    f\"⌛️ Notebook Execution time: {notebook_execution_time:.2f} seconds ~ {notebook_execution_time / 60:.2f} minutes\"\n",
    ")"
   ]
  }
 ],
 "metadata": {
  "kernelspec": {
   "display_name": "Python (smart-fit-recs)",
   "language": "python",
   "name": "smart-fit-recs"
  },
  "language_info": {
   "codemirror_mode": {
    "name": "ipython",
    "version": 3
   },
   "file_extension": ".py",
   "mimetype": "text/x-python",
   "name": "python",
   "nbconvert_exporter": "python",
   "pygments_lexer": "ipython3",
   "version": "3.11.9"
  }
 },
 "nbformat": 4,
 "nbformat_minor": 5
}
