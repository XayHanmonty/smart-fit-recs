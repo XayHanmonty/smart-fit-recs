{
 "cells": [
  {
   "cell_type": "code",
   "execution_count": 2,
   "id": "677a71b8-3cb7-4281-90f0-8035bcbc92af",
   "metadata": {},
   "outputs": [],
   "source": [
    "import time\n",
    "\n",
    "notebook_start_time = time.time()"
   ]
  },
  {
   "cell_type": "code",
   "execution_count": 3,
   "id": "18388360-92c0-46a5-8a92-4d9b62e1f8e0",
   "metadata": {},
   "outputs": [
    {
     "ename": "ModuleNotFoundError",
     "evalue": "No module named 'recsys'",
     "output_type": "error",
     "traceback": [
      "\u001b[31m---------------------------------------------------------------------------\u001b[39m",
      "\u001b[31mModuleNotFoundError\u001b[39m                       Traceback (most recent call last)",
      "\u001b[36mCell\u001b[39m\u001b[36m \u001b[39m\u001b[32mIn[3]\u001b[39m\u001b[32m, line 1\u001b[39m\n\u001b[32m----> \u001b[39m\u001b[32m1\u001b[39m \u001b[38;5;28;01mfrom\u001b[39;00m\u001b[38;5;250m \u001b[39m\u001b[34;01mrecsys\u001b[39;00m\u001b[34;01m.\u001b[39;00m\u001b[34;01mraw_data_sources\u001b[39;00m\u001b[38;5;250m \u001b[39m\u001b[38;5;28;01mimport\u001b[39;00m h_and_m \u001b[38;5;28;01mas\u001b[39;00m h_and_m_raw_data\n\u001b[32m      3\u001b[39m \u001b[38;5;66;03m# Extract articles data\u001b[39;00m\n\u001b[32m      4\u001b[39m articles_df = h_and_m_raw_data.extract_articles_df()\n",
      "\u001b[31mModuleNotFoundError\u001b[39m: No module named 'recsys'"
     ]
    }
   ],
   "source": [
    "\n",
    "from recsys.raw_data_sources import h_and_m as h_and_m_raw_data\n",
    "\n",
    "# Extract articles data\n",
    "articles_df = h_and_m_raw_data.extract_articles_df()\n",
    "print(articles_df.shape)\n",
    "articles_df.head()\n",
    "\n",
    "# Extract customers data\n",
    "customers_df = h_and_m_raw_data.extract_customers_df()\n",
    "print(customers_df.shape)\n",
    "customers_df.head()\n",
    "\n",
    "# Extract transactions data\n",
    "transactions_df = h_and_m_raw_data.extract_transactions_df()\n",
    "print(transactions_df.shape)\n",
    "transactions_df.head()"
   ]
  }
 ],
 "metadata": {
  "kernelspec": {
   "display_name": "Python 3 (ipykernel)",
   "language": "python",
   "name": "python3"
  },
  "language_info": {
   "codemirror_mode": {
    "name": "ipython",
    "version": 3
   },
   "file_extension": ".py",
   "mimetype": "text/x-python",
   "name": "python",
   "nbconvert_exporter": "python",
   "pygments_lexer": "ipython3",
   "version": "3.13.5"
  }
 },
 "nbformat": 4,
 "nbformat_minor": 5
}
